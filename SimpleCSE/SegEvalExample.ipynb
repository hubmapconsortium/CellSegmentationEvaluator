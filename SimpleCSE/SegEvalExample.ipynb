{
 "cells": [
  {
   "cell_type": "markdown",
   "metadata": {},
   "source": [
    "## EXAMPLE MAIN PROGRAM TO CALCULATE SEGMENTATION EVALUATION STATISTICS FOR A SINGLE IMAGE AND MASK\n",
    "## Authors: Haoran Chen and Robert F. Murphy and Ted Zhang\n",
    "## this assumes that the required python packages have already been installed using\n",
    "### pip install -r requirements.txt"
   ]
  },
  {
   "cell_type": "code",
   "execution_count": 1,
   "metadata": {},
   "outputs": [],
   "source": [
    "from pathlib import Path\n",
    "import pickle\n",
    "from read_and_eval_seg import read_and_eval_seg"
   ]
  },
  {
   "cell_type": "code",
   "execution_count": 2,
   "metadata": {},
   "outputs": [
    {
     "name": "stdout",
     "output_type": "stream",
     "text": [
      "Calculating single-method metrics v1.5 for example_data/imgs\n",
      "{'Matched Cell': {'NumberOfCellsPer100SquareMicrons': 1.3776182999409543, 'FractionOfForegroundOccupiedByCells': 0.9139552591250374, '1-FractionOfBackgroundOccupiedByCells': 0.07701391043377503, 'FractionOfCellMaskInForeground': 0.7648416245431748, '1/(ln(StandardDeviationOfCellSize)+1)': 0.16336128718458506, 'FractionOfMatchedCellsAndNuclei': 1.0, '1/(AvgCVForegroundOutsideCells+1)': 0.09343860787391506, 'FractionOfFirstPCForegroundOutsideCells': 0.7157825825930578}, 'Nucleus (including nuclear membrane)': {'1/(AvgOfWeightedAvgCVMeanCellIntensitiesOver1~10NumberOfClusters+1)': 0.2045461213373561, 'AvgOfWeightedAvgFractionOfFirstPCMeanCellIntensitiesOver1~10NumberOfClusters': 0.4881621793693247, 'AvgSilhouetteOver2~10NumberOfClusters': 0.057437420796382}, 'Cell Not Including Nucleus (cell membrane plus cytoplasm)': {'1/(AvgOfWeightedAvgCVMeanCellIntensitiesOver1~10NumberOfClusters+1)': 0.20268239360924561, 'AvgOfWeightedAvgFractionOfFirstPCMeanCellIntensitiesOver1~10NumberOfClusters': 0.5332347317496605, 'AvgSilhouetteOver2~10NumberOfClusters': 0.2254152572310381}, 'QualityScore': 0.13032760796679677}\n"
     ]
    }
   ],
   "source": [
    "# illustration for a 2D image \n",
    "img_path = Path('example_data/imgs/2D_CODEX.ome.tiff')\n",
    "mask_path = Path('example_data/masks/2D_CODEX.ome.tiff')\n",
    "output_directory = Path('results')\n",
    "\n",
    "# two choices: give empty model in which case read_and_eval_seg will use the default 2D model\n",
    "PCA_model = []\n",
    "# or give a specific model\n",
    "#PCA_model = pickle.load( open( \"2D_PCA_model.pickle\", \"rb\" ))\n",
    "\n",
    "seg_metrics = read_and_eval_seg(img_path, mask_path, PCA_model, output_directory)\n",
    "\n",
    "print(seg_metrics)"
   ]
  },
  {
   "cell_type": "code",
   "execution_count": 3,
   "metadata": {},
   "outputs": [
    {
     "name": "stdout",
     "output_type": "stream",
     "text": [
      "Calculating single-method metrics v1.5 for example_data/imgs\n",
      "{'Matched Cell': {'NumberOfCellsPer100SquareMicrons': 1.3776182999409543, 'FractionOfForegroundOccupiedByCells': 0.9139643615647609, '1-FractionOfBackgroundOccupiedByCells': 0.07703737026852353, 'FractionOfCellMaskInForeground': 0.7650158452081655, '1/(ln(StandardDeviationOfCellSize)+1)': 0.16336128718458506, 'FractionOfMatchedCellsAndNuclei': 1.0, '1/(AvgCVForegroundOutsideCells+1)': 0.0934432339297593, 'FractionOfFirstPCForegroundOutsideCells': 0.7163386307662011}, 'Nucleus (including nuclear membrane)': {'1/(AvgOfWeightedAvgCVMeanCellIntensitiesOver1~10NumberOfClusters+1)': 0.20430029228313443, 'AvgOfWeightedAvgFractionOfFirstPCMeanCellIntensitiesOver1~10NumberOfClusters': 0.4886003316890298, 'AvgSilhouetteOver2~10NumberOfClusters': 0.05786529575259167}, 'Cell Not Including Nucleus (cell membrane plus cytoplasm)': {'1/(AvgOfWeightedAvgCVMeanCellIntensitiesOver1~10NumberOfClusters+1)': 0.2028591160797523, 'AvgOfWeightedAvgFractionOfFirstPCMeanCellIntensitiesOver1~10NumberOfClusters': 0.5333378213018224, 'AvgSilhouetteOver2~10NumberOfClusters': 0.2258065871400864}, 'QualityScore': 0.13137588446137866}\n"
     ]
    }
   ],
   "source": [
    "img_path = Path('example_data/imgs/2D_CODEX.ome.tiff')\n",
    "mask_path = Path('example_data/masks/2D_CODEX.ome.tiff')\n",
    "output_directory = Path('results')\n",
    "\n",
    "# use a specific model (actually the same as the default)\n",
    "PCA_model = pickle.load( open( \"2D_PCA_model.pickle\", \"rb\" ))\n",
    "\n",
    "seg_metrics2 = read_and_eval_seg(img_path, mask_path, PCA_model, output_directory)\n",
    "\n",
    "print(seg_metrics2)"
   ]
  },
  {
   "cell_type": "code",
   "execution_count": 4,
   "metadata": {},
   "outputs": [
    {
     "name": "stdout",
     "output_type": "stream",
     "text": [
      "Calculating single-method metrics v1.5 for example_data/imgs\n",
      "{'Matched Cell': {'NumberOfCellsPer100CubicMicrons': 0.7077738508763257, 'FractionOfForegroundOccupiedByCells': 0.14266366802153443, '1-FractionOfBackgroundOccupiedByCells': 1.0025906439112604, 'FractionOfCellMaskInForeground': 0.9822079836750122, '1/(ln(StandardDeviationOfCellSize)+1)': 0.14996549000573892, '1/(AvgCVForegroundOutsideCells+1)': 0.31104260524313904, 'FractionOfFirstPCForegroundOutsideCells': 0.1725867652852338}, 'Nucleus (including nuclear membrane)': {'1/(AvgOfWeightedAvgCVMeanCellIntensitiesOver1~10NumberOfClusters+1)': 0.5107179921178507, 'AvgOfWeightedAvgFractionOfFirstPCMeanCellIntensitiesOver1~10NumberOfClusters': 0.1667737531485708, 'AvgSilhouetteOver2~10NumberOfClusters': 0.07133055907968484}, 'Cell Not Including Nucleus (cell membrane plus cytoplasm)': {'1/(AvgOfWeightedAvgCVMeanCellIntensitiesOver1~10NumberOfClusters+1)': 0.5567450565441361, 'AvgOfWeightedAvgFractionOfFirstPCMeanCellIntensitiesOver1~10NumberOfClusters': 0.18322358897618432, 'AvgSilhouetteOver2~10NumberOfClusters': 0.0876643704226369}, 'QualityScore': 39.85449093420033}\n"
     ]
    }
   ],
   "source": [
    "img_path = Path('example_data/imgs/3D_IMC.ome.tiff')\n",
    "mask_path = Path('example_data/masks/3D_IMC.ome.tiff')\n",
    "output_directory = Path('results')\n",
    "\n",
    "# two choices: give empty model in which case read_and_eval_seg will use the default 3D model\n",
    "PCA_model = []\n",
    "# or give a specific model\n",
    "#PCA_model = pickle.load( open( \"3D_PCA_model.pickle\", \"rb\" ))\n",
    "\n",
    "seg_metrics3 = read_and_eval_seg(img_path, mask_path, PCA_model, output_directory)\n",
    "\n",
    "print(seg_metrics3)"
   ]
  },
  {
   "cell_type": "code",
   "execution_count": null,
   "metadata": {},
   "outputs": [],
   "source": []
  }
 ],
 "metadata": {
  "kernelspec": {
   "display_name": "Python 3 (ipykernel)",
   "language": "python",
   "name": "python3"
  },
  "language_info": {
   "codemirror_mode": {
    "name": "ipython",
    "version": 3
   },
   "file_extension": ".py",
   "mimetype": "text/x-python",
   "name": "python",
   "nbconvert_exporter": "python",
   "pygments_lexer": "ipython3",
   "version": "3.9.13"
  }
 },
 "nbformat": 4,
 "nbformat_minor": 4
}

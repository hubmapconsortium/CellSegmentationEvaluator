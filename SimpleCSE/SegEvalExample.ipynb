{
 "cells": [
  {
   "cell_type": "markdown",
   "metadata": {},
   "source": [
    "## EXAMPLE MAIN PROGRAM TO CALCULATE SEGMENTATION EVALUATION STATISTICS FOR A SINGLE IMAGE AND MASK\n",
    "## Authors: Haoran Chen and Robert F. Murphy and Ted Zhang\n",
    "## this assumes that the required python packages have already been installed using\n",
    "### pip install -r requirements.txt"
   ]
  },
  {
   "cell_type": "code",
   "execution_count": 1,
   "metadata": {},
   "outputs": [],
   "source": [
    "from pathlib import Path\n",
    "import pickle\n",
    "from read_and_eval_seg import read_and_eval_seg"
   ]
  },
  {
   "cell_type": "code",
   "execution_count": 5,
   "metadata": {},
   "outputs": [],
   "source": [
    "# illustration for a 2D image \n",
    "img_path = Path('./example_data/imgs/2D_CODEX.ome.tiff')\n",
    "mask_path = Path('./example_data/masks/2D_CODEX.ome.tiff')\n",
    "output_directory = Path('results')\n",
    "\n",
    "# two choices: give empty model in which case read_and_eval_seg will use the default 2D model\n",
    "PCA_model = []\n",
    "# or give a specific model\n",
    "#PCA_model = pickle.load( open( \"2D_PCA_model.pickle\", \"rb\" ))\n",
    "\n",
    "seg_metrics_2D = read_and_eval_seg(img_path, mask_path, PCA_model, output_directory)\n",
    "\n",
    "print(seg_metrics_2D)"
   ]
  },
  {
   "cell_type": "code",
   "execution_count": 2,
   "metadata": {},
   "outputs": [
    {
     "name": "stdout",
     "output_type": "stream",
     "text": [
      "Calculating evaluation metrics v1.6 for 3D_IMC.ome.tiff\n",
      "[<Quantity(1000, 'nanometer')>, <Quantity(1000, 'nanometer')>, <Quantity(2000, 'nanometer')>]\n",
      "{'Matched Cell': {'NumberOfCellsPer100CubicMicrons': 0.09183568058951136, 'FractionOfForegroundOccupiedByCells': 0.5828236222106423, '1-FractionOfBackgroundOccupiedByCells': 0.8169313900712654, 'FractionOfCellMaskInForeground': 0.9651429506031927, '1/(CVOfCellSize+1)': 0.7173306442825295, 'WeightedAvgCellSizeinCubicMicrons': 681.3255317265257, '1/(AvgCVForegroundOutsideCells+1)': 0.31324021990306844, 'FractionOfFirstPCForegroundOutsideCells': 0.17463488462068044}, 'Nucleus (including nuclear membrane)': {'1/(AvgOfWeightedAvgCVMeanCellIntensitiesOver1~10NumberOfClusters+1)': 0.5009548984989369, 'AvgOfWeightedAvgFractionOfFirstPCMeanCellIntensitiesOver1~10NumberOfClusters': 0.19543225539965145, 'AvgSilhouetteOver1~10NumberOfClusters': 0.04568973987345392}, 'Cell Not Including Nucleus (cell membrane plus cytoplasm)': {'1/(AvgOfWeightedAvgCVMeanCellIntensitiesOver1~10NumberOfClusters+1)': 0.555539281578267, 'AvgOfWeightedAvgFractionOfFirstPCMeanCellIntensitiesOver1~10NumberOfClusters': 0.18492543709576048, 'AvgSilhouetteOver1~10NumberOfClusters': 0.09949116655140815}}\n",
      "{'Matched Cell': {'NumberOfCellsPer100CubicMicrons': 0.09183568058951136, 'FractionOfForegroundOccupiedByCells': 0.5828236222106423, '1-FractionOfBackgroundOccupiedByCells': 0.8169313900712654, 'FractionOfCellMaskInForeground': 0.9651429506031927, '1/(CVOfCellSize+1)': 0.7173306442825295, 'WeightedAvgCellSizeinCubicMicrons': 681.3255317265257, '1/(AvgCVForegroundOutsideCells+1)': 0.31324021990306844, 'FractionOfFirstPCForegroundOutsideCells': 0.17463488462068044}, 'Nucleus (including nuclear membrane)': {'1/(AvgOfWeightedAvgCVMeanCellIntensitiesOver1~10NumberOfClusters+1)': 0.5009548984989369, 'AvgOfWeightedAvgFractionOfFirstPCMeanCellIntensitiesOver1~10NumberOfClusters': 0.19543225539965145, 'AvgSilhouetteOver1~10NumberOfClusters': 0.04568973987345392}, 'Cell Not Including Nucleus (cell membrane plus cytoplasm)': {'1/(AvgOfWeightedAvgCVMeanCellIntensitiesOver1~10NumberOfClusters+1)': 0.555539281578267, 'AvgOfWeightedAvgFractionOfFirstPCMeanCellIntensitiesOver1~10NumberOfClusters': 0.18492543709576048, 'AvgSilhouetteOver1~10NumberOfClusters': 0.09949116655140815}, 'QualityScore': 78.5524038988313}\n"
     ]
    }
   ],
   "source": [
    "img_path = Path('example_data/imgs/3D_IMC.ome.tiff')\n",
    "mask_path = Path('example_data/masks/3D_IMC.ome.tiff')\n",
    "output_directory = Path('results')\n",
    "\n",
    "# two choices: give empty model in which case read_and_eval_seg will use the default 3D model\n",
    "PCA_model = []\n",
    "# or give a specific model\n",
    "# PCA_model = pickle.load( open( \"3D_PCA_model.pickle\", \"rb\" ))\n",
    "\n",
    "seg_metrics_3D = read_and_eval_seg(img_path, mask_path, PCA_model, output_directory)\n",
    "\n",
    "print(seg_metrics_3D)"
   ]
  },
  {
   "cell_type": "code",
   "execution_count": null,
   "metadata": {},
   "outputs": [],
   "source": []
  }
 ],
 "metadata": {
  "kernelspec": {
   "display_name": "Python 3 (ipykernel)",
   "language": "python",
   "name": "python3"
  },
  "language_info": {
   "codemirror_mode": {
    "name": "ipython",
    "version": 3
   },
   "file_extension": ".py",
   "mimetype": "text/x-python",
   "name": "python",
   "nbconvert_exporter": "python",
   "pygments_lexer": "ipython3",
   "version": "3.9.13"
  }
 },
 "nbformat": 4,
 "nbformat_minor": 4
}
